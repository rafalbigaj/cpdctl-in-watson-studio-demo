{
 "cells": [
  {
   "cell_type": "code",
   "execution_count": 1,
   "id": "14b888f6-4402-401e-8c35-d60394304509",
   "metadata": {
    "id": "e14252db-10ed-4df2-aebc-7ba203d83bfb",
    "tags": []
   },
   "outputs": [
    {
     "name": "stdout",
     "output_type": "stream",
     "text": [
      "\u001b[31mERROR: pip's dependency resolver does not currently take into account all the packages that are installed. This behaviour is the source of the following dependency conflicts.\n",
      "watson-core 1.22.0 requires PyYAML<7.0,>=6.0, but you have pyyaml 5.4.1 which is incompatible.\n",
      "tensorflow 2.9.3 requires protobuf<3.20,>=3.9.2, but you have protobuf 3.20.3 which is incompatible.\n",
      "tensorboard 2.9.1 requires protobuf<3.20,>=3.9.2, but you have protobuf 3.20.3 which is incompatible.\n",
      "pytorch-lightning 1.6.5 requires protobuf<=3.20.1, but you have protobuf 3.20.3 which is incompatible.\n",
      "onnx 1.12.0 requires protobuf<=3.20.1,>=3.12.2, but you have protobuf 3.20.3 which is incompatible.\n",
      "mysql-connector-python 8.0.30 requires protobuf<=3.20.1,>=3.11.0, but you have protobuf 3.20.3 which is incompatible.\n",
      "ibm-watson-openscale 3.0.27 requires ibm-cloud-sdk-core==3.10.1, but you have ibm-cloud-sdk-core 3.16.1 which is incompatible.\u001b[0m\u001b[31m\n",
      "\u001b[0mSuccessfully installed PyYAML-5.4.1 docstring-parser-0.15 fire-0.5.0 google-api-core-2.11.0 google-api-python-client-1.12.11 google-auth-2.16.0 google-auth-httplib2-0.1.0 google-cloud-core-2.3.2 google-cloud-storage-2.7.0 google-crc32c-1.5.0 google-resumable-media-2.4.1 httplib2-0.21.0 ibm-cloud-sdk-core-3.16.1 ibm-watson-pipelines-1.0.0 jsonschema-3.2.0 kfp-1.8.18 kfp-pipeline-spec-0.1.16 kfp-server-api-1.8.5 kubernetes-19.15.0 protobuf-3.20.3 pydantic-1.10.4 requests-toolbelt-0.10.1 responses-0.22.0 strip-hints-0.1.10 toml-0.10.2 typer-0.7.0 types-toml-0.10.8.3 uritemplate-3.0.1 websocket-client-1.5.1\n"
     ]
    }
   ],
   "source": [
    "! pip install ibm-watson-pipelines | tail -n 1"
   ]
  },
  {
   "cell_type": "code",
   "execution_count": 2,
   "id": "94159a56-b09a-4e52-a593-179a70783244",
   "metadata": {
    "id": "94159a56-b09a-4e52-a593-179a70783244",
    "tags": []
   },
   "outputs": [],
   "source": [
    "import os\n",
    "from ibm_watson_pipelines import WatsonPipelines\n",
    "\n",
    "project_id = \"91d54131-3850-4339-8b0f-d45d618b7051\"  # wp-long-run-tests\n",
    "\n",
    "client = WatsonPipelines()"
   ]
  },
  {
   "cell_type": "code",
   "execution_count": 4,
   "id": "240679b3-19d5-4eaa-81e5-c708cad3139f",
   "metadata": {
    "id": "240679b3-19d5-4eaa-81e5-c708cad3139f",
    "tags": []
   },
   "outputs": [
    {
     "name": "stdout",
     "output_type": "stream",
     "text": [
      "Hello\n"
     ]
    },
    {
     "name": "stderr",
     "output_type": "stream",
     "text": [
      "/opt/conda/envs/Python-3.10-Premium/lib/python3.10/site-packages/urllib3/connectionpool.py:1045: InsecureRequestWarning: Unverified HTTPS request is being made to host 'internal-nginx-svc.zen.svc.cluster.local'. Adding certificate verification is strongly advised. See: https://urllib3.readthedocs.io/en/1.26.x/advanced-usage.html#ssl-warnings\n",
      "  warnings.warn(\n"
     ]
    },
    {
     "data": {
      "text/plain": [
       "ComponentMetadata(id='e7f36c6b-ac0d-4bbe-9a88-69244efed47e', name='Echo message', description=None, environment_id=None, created_at='2023-02-07T16:11:30Z', annotations={'component_group': 'user', 'component_type': 'echo', 'component_type_name': 'Echo message', 'node_id_prefix': 'user_echo_message'}, labels={'exception-handler-enabled': 'true', 'ws-pipelines.ibm.com/payment': 'account'}, custom={'activity_type': 'python-task', 'feature': 'activity', 'node_type': 'execution_node'}, latest_version={'id': 'e7f36c6b-ac0d-4bbe-9a88-69244efed47e-1', 'created_at': '2023-02-07T16:11:30Z', 'name': 'Echo message', 'description': 'Test component', 'inputs': [{'name': 'text', 'type': 'String', 'validators': {'minLength': 1}}, {'name': 'hardware_specification', 'description': 'The hardware specification defines resources required to run component code.', 'type': {'CPDPath': {'asset_type': 'hardware_specification', 'path_type': 'resource', 'resource_type': 'asset'}}, 'optional': True, 'human_name': 'Hardware specification', 'allowed_scopes': ['project'], 'related_asset_type': 'orchestration_flow', 'descriptive_name': 'Hardware specification'}, {'name': 'error_policy', 'description': 'An action taken when the run has failed.', 'type': 'ErrorPolicy', 'optional': True, 'human_name': 'Error Policy', 'descriptive_name': 'Error Policy'}], 'outputs': [{'name': 'Output', 'type': 'String', 'size_estimation': 250}, {'name': 'status', 'description': 'The status of the job. One of: \"Completed\", \"CompletedWithWarnings\", \"CompletedWithErrors\", \"Failed\", \"Canceled\", \"ConfigurationError\"', 'type': 'ExecutionStatus', 'human_name': 'Execution Status', 'size_estimation': 21, 'descriptive_name': 'Execution Status'}, {'name': 'status_message', 'description': 'Message associated with the status.', 'type': 'String', 'human_name': 'Status Message', 'size_estimation': 250, 'descriptive_name': 'Status Message'}], 'traits': [{'name': 'component_hardware_specification'}, {'name': 'error_handling'}, {'name': 'payable'}]})"
      ]
     },
     "execution_count": 4,
     "metadata": {},
     "output_type": "execute_result"
    }
   ],
   "source": [
    "def echo(text: str) -> str:\n",
    "    print(text)\n",
    "    return text\n",
    "\n",
    "\n",
    "echo(\"Hello\")\n",
    "\n",
    "client.publish_component(\n",
    "    name=\"Echo message\",\n",
    "    description=\"Test component\",\n",
    "    func=echo,\n",
    "    project_id=project_id,\n",
    "    overwrite=True,\n",
    ")"
   ]
  },
  {
   "cell_type": "code",
   "execution_count": 6,
   "id": "91a87a13-454c-40c6-bc24-7b3d2cc21f2c",
   "metadata": {
    "id": "91a87a13-454c-40c6-bc24-7b3d2cc21f2c",
    "tags": []
   },
   "outputs": [
    {
     "name": "stdout",
     "output_type": "stream",
     "text": [
      "['.git', '.gitignore', 'archives', 'assets', 'assettypes', 'create_projects.sh', 'create_spaces.sh', 'create_user.sh', 'hello.py', 'install_cpdctl.sh', 'say_hello.ipynb', '.virtual_documents', '.ipynb_checkpoints', 'publish_components.ipynb']\n"
     ]
    },
    {
     "name": "stderr",
     "output_type": "stream",
     "text": [
      "/opt/conda/envs/Python-3.10-Premium/lib/python3.10/site-packages/urllib3/connectionpool.py:1045: InsecureRequestWarning: Unverified HTTPS request is being made to host 'internal-nginx-svc.zen.svc.cluster.local'. Adding certificate verification is strongly advised. See: https://urllib3.readthedocs.io/en/1.26.x/advanced-usage.html#ssl-warnings\n",
      "  warnings.warn(\n"
     ]
    },
    {
     "data": {
      "text/plain": [
       "ComponentMetadata(id='783ed9ad-74ce-4add-807e-361f1df2f8b4', name='List directory', description=None, environment_id=None, created_at='2023-02-07T16:15:34Z', annotations={'component_group': 'user', 'component_type': 'list_directory', 'component_type_name': 'List directory', 'node_id_prefix': 'user_list_directory'}, labels={'exception-handler-enabled': 'true', 'ws-pipelines.ibm.com/payment': 'account'}, custom={'activity_type': 'python-task', 'feature': 'activity', 'node_type': 'execution_node'}, latest_version={'id': '783ed9ad-74ce-4add-807e-361f1df2f8b4-1', 'created_at': '2023-02-07T16:15:34Z', 'name': 'List directory', 'description': 'Returns a list of files and sub-directories in the specified path.', 'inputs': [{'name': 'dirname', 'type': 'String', 'validators': {'minLength': 1}}, {'name': 'hardware_specification', 'description': 'The hardware specification defines resources required to run component code.', 'type': {'CPDPath': {'asset_type': 'hardware_specification', 'path_type': 'resource', 'resource_type': 'asset'}}, 'optional': True, 'human_name': 'Hardware specification', 'allowed_scopes': ['project'], 'related_asset_type': 'orchestration_flow', 'descriptive_name': 'Hardware specification'}, {'name': 'error_policy', 'description': 'An action taken when the run has failed.', 'type': 'ErrorPolicy', 'optional': True, 'human_name': 'Error Policy', 'descriptive_name': 'Error Policy'}], 'outputs': [{'name': 'Output', 'type': 'List', 'size_estimation': 2000}, {'name': 'status', 'description': 'The status of the job. One of: \"Completed\", \"CompletedWithWarnings\", \"CompletedWithErrors\", \"Failed\", \"Canceled\", \"ConfigurationError\"', 'type': 'ExecutionStatus', 'human_name': 'Execution Status', 'size_estimation': 21, 'descriptive_name': 'Execution Status'}, {'name': 'status_message', 'description': 'Message associated with the status.', 'type': 'String', 'human_name': 'Status Message', 'size_estimation': 250, 'descriptive_name': 'Status Message'}], 'traits': [{'name': 'component_hardware_specification'}, {'name': 'error_handling'}, {'name': 'payable'}]})"
      ]
     },
     "execution_count": 6,
     "metadata": {},
     "output_type": "execute_result"
    }
   ],
   "source": [
    "def list_directory(dirname: str) -> list:\n",
    "    import os\n",
    "    listing = os.listdir(dirname)\n",
    "    print(listing)\n",
    "    return listing\n",
    "\n",
    "\n",
    "list_directory(\".\")\n",
    "\n",
    "client.publish_component(\n",
    "    name=\"List directory\",\n",
    "    description=\"Returns a list of files and sub-directories in the specified path.\",\n",
    "    func=list_directory,\n",
    "    project_id=project_id,\n",
    "    overwrite=True,\n",
    ")"
   ]
  },
  {
   "cell_type": "code",
   "execution_count": null,
   "id": "ccd9695a-2c8f-416e-9c95-b48348b9f727",
   "metadata": {
    "id": "ccd9695a-2c8f-416e-9c95-b48348b9f727"
   },
   "outputs": [],
   "source": []
  }
 ],
 "metadata": {
  "kernelspec": {
   "display_name": "Python 3.10",
   "language": "python",
   "name": "python3"
  },
  "language_info": {
   "codemirror_mode": {
    "name": "ipython",
    "version": 3
   },
   "file_extension": ".py",
   "mimetype": "text/x-python",
   "name": "python",
   "nbconvert_exporter": "python",
   "pygments_lexer": "ipython3",
   "version": "3.10.6"
  }
 },
 "nbformat": 4,
 "nbformat_minor": 5
}
